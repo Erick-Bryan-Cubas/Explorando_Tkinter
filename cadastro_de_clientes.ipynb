{
 "cells": [
  {
   "cell_type": "code",
   "execution_count": null,
   "id": "ef9bf656-030f-4582-93a1-ca8bf70bd601",
   "metadata": {},
   "outputs": [],
   "source": []
  },
  {
   "cell_type": "code",
   "execution_count": 1,
   "id": "b0906150-f7d0-497e-8a46-50bd76c846b2",
   "metadata": {},
   "outputs": [],
   "source": [
    "from tkinter import * # Importamos todas as chamadas da biblioteca Tkinter\n",
    "\n",
    "root = Tk() # Variável com o nome da janela"
   ]
  },
  {
   "attachments": {},
   "cell_type": "markdown",
   "id": "9c6bcb9e-bf91-4334-b651-64969ff19046",
   "metadata": {},
   "source": [
    "Quando criamos a variável com o nome da janela sem antes a inserir em um loop, a janela é aberta e fechada em uma fração de segundos. "
   ]
  },
  {
   "cell_type": "code",
   "execution_count": null,
   "id": "7d2a8bc7-5cd0-421b-b02e-75b4ae52b480",
   "metadata": {},
   "outputs": [],
   "source": [
    "from tkinter import *\n",
    "\n",
    "root = Tk()\n",
    "\n",
    "root.mainloop()"
   ]
  },
  {
   "attachments": {},
   "cell_type": "markdown",
   "id": "1d782355-56a3-4978-a621-6f89c9156b80",
   "metadata": {},
   "source": [
    "Configurando a janela para aplicar os widgets."
   ]
  },
  {
   "cell_type": "code",
   "execution_count": null,
   "id": "413b217e-b44e-4068-b208-067951dd0e87",
   "metadata": {},
   "outputs": [],
   "source": [
    "from tkinter import *\n",
    "\n",
    "root = Tk()\n",
    "\n",
    "class Application():\n",
    "    def __init__(self):\n",
    "        self.root = root\n",
    "        self.tela()\n",
    "        root.mainloop()\n",
    "        \n",
    "    def tela(self):\n",
    "        self.root.title(\"Cadastro de Clientes\") # Declarando o título da janela\n",
    "        self.root.configure(background= '#1e3743') # Configurando a cor de fundo\n",
    "        self.root.geometry(\"780x500\") # Configurando as dimensões da janela (Horizontal X Vertical)\n",
    "        self.root.resizable(True, True) # Permitir que as dimensões horizontal e vertical sejam responsivas\n",
    "        self.root.maxsize(width=980, height=700) # Delimitando a largura e altura máxima\n",
    "        self.root.minsize(width=400, height=300) # Delimitando a largura e altura mínima\n",
    "        \n",
    "Application()"
   ]
  }
 ],
 "metadata": {
  "kernelspec": {
   "display_name": "Python 3 (ipykernel)",
   "language": "python",
   "name": "python3"
  },
  "language_info": {
   "codemirror_mode": {
    "name": "ipython",
    "version": 3
   },
   "file_extension": ".py",
   "mimetype": "text/x-python",
   "name": "python",
   "nbconvert_exporter": "python",
   "pygments_lexer": "ipython3",
   "version": "3.9.12"
  }
 },
 "nbformat": 4,
 "nbformat_minor": 5
}
