{
 "cells": [
  {
   "cell_type": "code",
   "execution_count": null,
   "id": "ef9bf656-030f-4582-93a1-ca8bf70bd601",
   "metadata": {},
   "outputs": [],
   "source": []
  },
  {
   "cell_type": "code",
   "execution_count": 1,
   "id": "b0906150-f7d0-497e-8a46-50bd76c846b2",
   "metadata": {},
   "outputs": [],
   "source": [
    "from tkinter import * # Importamos todas as chamadas da biblioteca Tkinter\n",
    "\n",
    "root = Tk() # Variável com o nome da janela"
   ]
  },
  {
   "attachments": {},
   "cell_type": "markdown",
   "id": "9c6bcb9e-bf91-4334-b651-64969ff19046",
   "metadata": {},
   "source": [
    "Quando criamos a variável com o nome da janela sem antes a inserir em um loop, a janela é aberta e fechada em uma fração de segundos. "
   ]
  },
  {
   "cell_type": "code",
   "execution_count": null,
   "id": "7d2a8bc7-5cd0-421b-b02e-75b4ae52b480",
   "metadata": {},
   "outputs": [],
   "source": [
    "from tkinter import *\n",
    "\n",
    "root = Tk()\n",
    "\n",
    "root.mainloop()"
   ]
  },
  {
   "attachments": {},
   "cell_type": "markdown",
   "id": "1d782355-56a3-4978-a621-6f89c9156b80",
   "metadata": {},
   "source": [
    "Configurando a janela para aplicar os widgets."
   ]
  },
  {
   "cell_type": "code",
   "execution_count": null,
   "id": "413b217e-b44e-4068-b208-067951dd0e87",
   "metadata": {},
   "outputs": [],
   "source": [
    "from tkinter import *\n",
    "\n",
    "root = Tk()\n",
    "\n",
    "class Application():\n",
    "    def __init__(self):\n",
    "        self.root = root\n",
    "        self.tela()\n",
    "        root.mainloop()\n",
    "        \n",
    "    def tela(self):\n",
    "        self.root.title(\"Cadastro de Clientes\") # Declarando o título da janela\n",
    "        self.root.configure(background= '#1e3743') # Configurando a cor de fundo\n",
    "        self.root.geometry(\"780x500\") # Configurando as dimensões da janela (Horizontal X Vertical)\n",
    "        self.root.resizable(True, True) # Permitir que as dimensões horizontal e vertical sejam responsivas\n",
    "        self.root.maxsize(width=980, height=700) # Delimitando a largura e altura máxima\n",
    "        self.root.minsize(width=400, height=300) # Delimitando a largura e altura mínima\n",
    "        \n",
    "Application()"
   ]
  },
  {
   "attachments": {},
   "cell_type": "markdown",
   "id": "a6d7f13f",
   "metadata": {},
   "source": [
    "## Configurando os frames\n",
    "Existem três abordagens para os _widgets_ aparecerem na tela, botão etc. São:\n",
    "1. Place\n",
    "2. Pack\n",
    "3. Grid\n",
    "\n",
    "O empregado na presente aplicação é o place com Relative X e Y. *relx* e *rely* compreende de 0 à 1, em que 0 equivale ao lado esquerdo da tela e 1 ao lado direito."
   ]
  },
  {
   "cell_type": "code",
   "execution_count": null,
   "id": "e3a3a5bf",
   "metadata": {},
   "outputs": [],
   "source": [
    "from tkinter import *\n",
    "\n",
    "root = Tk()\n",
    "\n",
    "class Application():\n",
    "    def __init__(self):\n",
    "        self.root = root\n",
    "        self.tela()\n",
    "        self.frames_da_tela()\n",
    "        root.mainloop()\n",
    "        \n",
    "    def tela(self):\n",
    "        self.root.title(\"Cadastro de Clientes\") # Declarando o título da janela\n",
    "        self.root.configure(background= '#1e3743') # Configurando a cor de fundo\n",
    "        self.root.geometry(\"780x500\") # Configurando as dimensões da janela (Horizontal X Vertical)\n",
    "        self.root.resizable(True, True) # Permitir que as dimensões horizontal e vertical sejam responsivas\n",
    "        self.root.maxsize(width=980, height=700) # Delimitando a largura e altura máxima\n",
    "        self.root.minsize(width=400, height=300) # Delimitando a largura e altura mínima\n",
    "    def frames_da_tela(self):\n",
    "        self.frame_1 = Frame(self.root, bd=4, bg='#dfe3ee', \n",
    "                             highlightbackground='#759fe6', highlightthickness=2)\n",
    "        self.frame_1.place(relx= 0.02, rely=0.02, relwidth=0.96, relheight=0.46)\n",
    "        \n",
    "        self.frame_2 = Frame(self.root, bd=4, bg='#dfe3ee',\n",
    "                             highlightbackground='#759fe6', highlightthickness=2)\n",
    "        self.frame_2.place(relx= 0.02, rely=0.5, relwidth=0.96, relheight=0.46)\n",
    "        \n",
    "Application()"
   ]
  },
  {
   "attachments": {},
   "cell_type": "markdown",
   "id": "11680c99",
   "metadata": {},
   "source": [
    "## Configurando os widgets (botões)"
   ]
  },
  {
   "cell_type": "code",
   "execution_count": null,
   "id": "b4ad440d",
   "metadata": {},
   "outputs": [],
   "source": [
    "from tkinter import *\n",
    "\n",
    "root = Tk()\n",
    "\n",
    "class Application():\n",
    "    def __init__(self):\n",
    "        self.root = root\n",
    "        self.tela()\n",
    "        self.frames_da_tela()\n",
    "        self.criando_botoes()\n",
    "        root.mainloop()\n",
    "        \n",
    "    def tela(self):\n",
    "        self.root.title(\"Cadastro de Clientes\") # Declarando o título da janela\n",
    "        self.root.configure(background= '#1e3743') # Configurando a cor de fundo\n",
    "        self.root.geometry('780x500') # Configurando as dimensões da janela (Horizontal X Vertical)\n",
    "        self.root.resizable(True, True) # Permitir que as dimensões horizontal e vertical sejam responsivas\n",
    "        self.root.maxsize(width=980, height=700) # Delimitando a largura e altura máxima\n",
    "        self.root.minsize(width=400, height=300) # Delimitando a largura e altura mínima\n",
    "    def frames_da_tela(self):\n",
    "        self.frame_1 = Frame(self.root, bd=4, bg='#dfe3ee', \n",
    "                             highlightbackground='#759fe6', highlightthickness=2)\n",
    "        self.frame_1.place(relx= 0.02, rely=0.02, relwidth=0.96, relheight=0.46)\n",
    "        \n",
    "        self.frame_2 = Frame(self.root, bd=4, bg='#dfe3ee',\n",
    "                             highlightbackground='#759fe6', highlightthickness=2)\n",
    "        self.frame_2.place(relx=0.02, rely=0.5, relwidth=0.96, relheight=0.46)\n",
    "    \n",
    "    def criando_botoes(self):\n",
    "        ### Criação do botão limpar\n",
    "        self.bt_limpar = Button(self.frame_1, text='Limpar')\n",
    "        self.bt_limpar.place(relx=0.2, rely=0.1, relwidth=0.1, relheight=0.15)        \n",
    "        ### Criação do botão buscar\n",
    "        self.bt_buscar = Button(self.frame_1, text='Buscar')\n",
    "        self.bt_buscar.place(relx=0.3, rely=0.1, relwidth=0.1, relheight=0.15)\n",
    "        ### Criação do botão novo\n",
    "        self.bt_buscar = Button(self.frame_1, text='Novo')\n",
    "        self.bt_buscar.place(relx=0.6, rely=0.1, relwidth=0.1, relheight=0.15)\n",
    "        ### Criação do botão alterar\n",
    "        self.bt_buscar = Button(self.frame_1, text='Alterar')\n",
    "        self.bt_buscar.place(relx=0.7, rely=0.1, relwidth=0.1, relheight=0.15)        \n",
    "        ### Criação do botão apagar\n",
    "        self.bt_buscar = Button(self.frame_1, text='Apagar')\n",
    "        self.bt_buscar.place(relx=0.8, rely=0.1, relwidth=0.1, relheight=0.15)\n",
    "          \n",
    "        \n",
    "        \n",
    "        \n",
    "             \n",
    "Application()"
   ]
  },
  {
   "attachments": {},
   "cell_type": "markdown",
   "id": "9b16cdc2",
   "metadata": {},
   "source": [
    "## Configurando as entradas e saídas"
   ]
  },
  {
   "cell_type": "code",
   "execution_count": null,
   "id": "1dda7991",
   "metadata": {},
   "outputs": [],
   "source": []
  }
 ],
 "metadata": {
  "kernelspec": {
   "display_name": "Python 3 (ipykernel)",
   "language": "python",
   "name": "python3"
  },
  "language_info": {
   "codemirror_mode": {
    "name": "ipython",
    "version": 3
   },
   "file_extension": ".py",
   "mimetype": "text/x-python",
   "name": "python",
   "nbconvert_exporter": "python",
   "pygments_lexer": "ipython3",
   "version": "3.9.12"
  }
 },
 "nbformat": 4,
 "nbformat_minor": 5
}
